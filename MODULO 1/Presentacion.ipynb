{
 "cells": [
  {
   "cell_type": "markdown",
   "metadata": {},
   "source": [
    "# ASIGNATURA SIMULACIÓN MATEMÁTICA\n",
    "\n",
    "**Lunes a Jueves de 11:00 a 13:00**\n",
    "\n",
    "* Carlos Andrés Ruiz Zea\n",
    "* Año : 2019\n",
    "* Copyright: Public Domain como en [CC](https://creativecommons.org/licenses/by/2.0/) (Exepto donde se indique lo contrario)\n",
    "\n",
    "\n"
   ]
  },
  {
   "cell_type": "markdown",
   "metadata": {},
   "source": [
    "## Presentación de ustedes"
   ]
  },
  {
   "cell_type": "markdown",
   "metadata": {},
   "source": [
    "## Reglas\n",
    "* No está permitido el consumo de comidas ni bebidas en las clases.\n",
    "* Celular: En modo slencio. si a alguien le suena, Ustedes ponen el castigo.\n",
    "* **Regla de oro**: Todas las entregas (Trabajos, tareas) se realizan a través de moodle con los plazos asignados. No se aceptan trabajos fuera de la plataforma ni fuera de plazo. No insistan en este punto, no hay negocio.\n"
   ]
  },
  {
   "cell_type": "markdown",
   "metadata": {},
   "source": [
    "## Evaluación\n",
    "\n",
    "* 3 Proyectos (trabajo en equipo) 50%<br/>\n",
    "    - Proyecto 1: 16% <br/>\n",
    "    - Proyecto 2: 17% <br/>\n",
    "    - Proyecto 3: 17%<br/>\n",
    "    La evaluación de cada proyecto se divide en dos partes:         \n",
    "    - Reporte 50%\n",
    "    - Exposición 50%\n",
    "\n",
    "\n",
    "* 3 Examenes 30% \n",
    "* Tareas y actividades de clase 20%\n",
    ".\n",
    "Si durante algún proyecto las cosas no funcionan entre los integrantes, para el siguiente proyecto se pueden formar equipos nuevos."
   ]
  },
  {
   "cell_type": "markdown",
   "metadata": {},
   "source": [
    "## Horario de Asesoría\n",
    "\n",
    "Es posible Martes ó Jueves de 9:30-11:00\n",
    "\n",
    "\n"
   ]
  },
  {
   "cell_type": "markdown",
   "metadata": {},
   "source": [
    "## Descripción de la asignatura\n",
    "<img src= Python.png width=\"300\" height=\"500\" align=\"right\"/> <br/>\n",
    "\n",
    "\n",
    "Este es un curso básico de simulación utilizando python, por ende vamos a iniciar elaborando programas simples y conforme avancemos el nivel de exigencia aumentará, hasta donde el tiempo nos permita.\n",
    "\n",
    "\n",
    "La simulación matemática de escenarios es una estrategia relevante para resolver problemas de ingeniería, donde se requiere de soluciones óptimas y confiables.  Ésta, consiste en modelar numéricamente los principios físicos y matemáticos que rigen un fenómeno mediante el uso de lenguajes de modelado y herramientas de tecnologías de información.\n",
    "\n",
    "La asignatura está diseñada para que logres dichos propósitos e inicies un proceso que te permita apropiarte de desempeños profesionales muy útiles en tu futuro, al incorporarte en la industria u organizaciones que te demandarán resolver e implementar la simulación de escenarios bajo diferentes situaciones a través de la sistematización de la solución al problema planteado.\n"
   ]
  },
  {
   "cell_type": "markdown",
   "metadata": {},
   "source": [
    "## Objetivo general\n",
    "\n",
    "A partir de la modelación de fenómenos físicos desarrollarás las competencias necesarias para reproducir escenarios de aplicación profesional que representen de manera más cercana el fenómeno objetivo. Podrás además realizar inferencias que ayuden a la óptima toma de decisiones en la solución de problemas."
   ]
  },
  {
   "cell_type": "markdown",
   "metadata": {},
   "source": [
    "## Temas y subtemas\n",
    "\n",
    "### Módulo 1. Optimización\n",
    "\n",
    "Se aplicará una evaluación (exámen) y se evaluará la presentación de un proyecto.\n",
    "\n",
    "1. ¿Qué es una simulación? - Introducción al lenguaje de trabajo (Python) e instalación de software\n",
    "2. git, GitHub, GitKraken\n",
    "3. git, GitHub, GitKraken (Continuación)\n",
    "4. Optimización de funciones de variable escalar con SymPy\n",
    "5. Programación Lineal\n",
    "6. Programación Lineal (Continuación)\n",
    "7. Ajuste de curvas\n",
    "8. Ajuste de curvas (Continuación)\n",
    "9. Clasificación\n",
    "\n",
    "### Módulo 2. Montecarlo\n",
    "\n",
    "Se aplicará una evaluación (exámen) y se evaluará una presentación de proyecto.\n",
    "\n",
    "1. Generación de números aleatorios\n",
    "    * Generación de variables aleatorias (Uniforme, triangular, exponencial)\n",
    "    * Simulación de una fila un servidor (fila de un banco, cafetería, etc).\n",
    "4. Caminata aleatoria\n",
    "5. Integrales\n",
    "6. Fractales aleatorios\n",
    "7. Bajar y organizar datos de Yahoo Finance (Pandas)\n",
    "8. Probabilidad precio-umbral\n",
    "9. Probabilidad precio-umbral (Continuación)\n",
    "\n",
    "### Módulo 3. Ecuaciones diferenciales\n",
    "\n",
    "Se aplicará una evaluación (exámen) y se evaluará una presentación de proyecto.\n",
    "\n",
    "1. Introducción a ecuaciones diferenciales\n",
    "2. ¿Cómo se muve un péndulo?\n",
    "4. ¿Cómo crece una población?\n",
    "5. Modelo del rendimiento de una cuenta de ahorro\n"
   ]
  }
 ],
 "metadata": {
  "kernelspec": {
   "display_name": "Python 3",
   "language": "python",
   "name": "python3"
  },
  "language_info": {
   "codemirror_mode": {
    "name": "ipython",
    "version": 3
   },
   "file_extension": ".py",
   "mimetype": "text/x-python",
   "name": "python",
   "nbconvert_exporter": "python",
   "pygments_lexer": "ipython3",
   "version": "3.7.3"
  }
 },
 "nbformat": 4,
 "nbformat_minor": 2
}
