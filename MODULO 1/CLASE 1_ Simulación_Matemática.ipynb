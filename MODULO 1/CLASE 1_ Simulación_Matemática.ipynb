{
 "cells": [
  {
   "cell_type": "markdown",
   "metadata": {},
   "source": [
    "# ¿Qué es una simulación?\n",
    "\n",
    "Introducción a la materia y descripción de las herramientas computacionales que se van a utilizar a lo largo del curso.\n",
    "\n"
   ]
  },
  {
   "attachments": {},
   "cell_type": "markdown",
   "metadata": {},
   "source": [
    "Simulación\n",
    "\n",
    "Es una técnica o conjunto de técnicas que ayudan a entender el comportamiento de un sistema real o hipotético.\n",
    "\n",
    "<img style=\"float: right; margin: 0px 0px 15px 15px;\" src=\"https://upload.wikimedia.org/wikipedia/commons/thumb/4/4a/Python3-powered_hello-world.svg/1000px-Python3-powered_hello-world.svg.png\" width=\"300px\" height=\"100px\" />\n",
    "<img style=\"float: right; margin: 0px 0px 15px 15px;\" src=\"https://upload.wikimedia.org/wikipedia/commons/5/55/Rocker_bogie.gif\" width=\"300px\" height=\"100px\" />\n",

    "<img src=https://upload.wikimedia.org/wikipedia/commons/5/55/Rocker_bogie.gif  align=\"left\"/> <br/> \n",
    "<img src=https://upload.wikimedia.org/wikipedia/commons/2/2e/Tractor_Bump_Steer.GIF  align=\"left\"/> <br/> \n",
    "<img src=https://upload.wikimedia.org/wikipedia/commons/e/ec/ParticleSwarmArrowsAnimation.gif  align=\"left\"/> <br/> \n"
   ]
  },
  {
   "cell_type": "markdown",
   "metadata": {},
   "source": [
    "## Qué es un sistema?\n",
    "\n",
    "Colección de objetos, partes, componentes, etc., que interactúan entre si, dentro de una cierta frontera, para producir un patrón particular o comportamiento.\n",
    "Frontera: Es necesaria esta idea para separar al sistema del resto del universo.\n",
    "## ¿Qué es un modelo?\n",
    "\n",
    "Físicos (replicas) - Abstractos (Modelos matemáticos)\n",
    "Tipos\n",
    "\n",
    "Deterministas o Estocásticos.\n",
    "Dinámicos o estacionarios.\n",
    "## ¿Porqué hacer simulación?\n",
    "\n",
    "Reducción de costos: la simulación es mucho menos costosa que la experimentación en la vida real.\n",
    "Se pueden probar diferentes ideas en un mismo escenario.\n",
    "Se puede determinar el impacto potencial de eventos aleatorios (inversión).\n",
    "Evaluar si ciertos procesos son viables (determinar el impacto a largo plazo).\n",
    "\n",
    "*Referencia: Simulation Fundamentals, B. S. Bennett*"
   ]
  },
  {
   "cell_type": "markdown",
   "metadata": {},
   "source": [
    "## Herramientas utilizadas\n",
    "\n",
    "- [Anaconda](https://www.anaconda.com/distribution/)\n",
    "    * **Python**\n",
    "    * **Jupyter-notebook**\n",
    "- [Github](https://github.com/)\n"
   ]
  },
  {
   "cell_type": "code",
   "execution_count": null,
   "metadata": {},
   "outputs": [],
   "source": []
  }
 ],
 "metadata": {
  "kernelspec": {
   "display_name": "Python 3",
   "language": "python",
   "name": "python3"
  },
  "language_info": {
   "codemirror_mode": {
    "name": "ipython",
    "version": 3
   },
   "file_extension": ".py",
   "mimetype": "text/x-python",
   "name": "python",
   "nbconvert_exporter": "python",
   "pygments_lexer": "ipython3",
   "version": "3.7.3"
  }
 },
 "nbformat": 4,
 "nbformat_minor": 2
}
